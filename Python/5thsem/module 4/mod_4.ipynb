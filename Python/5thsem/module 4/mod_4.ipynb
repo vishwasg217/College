{
 "cells": [
  {
   "attachments": {},
   "cell_type": "markdown",
   "metadata": {},
   "source": [
    "# Module 4"
   ]
  },
  {
   "attachments": {},
   "cell_type": "markdown",
   "metadata": {},
   "source": [
    "Creating a class"
   ]
  },
  {
   "cell_type": "code",
   "execution_count": 3,
   "metadata": {},
   "outputs": [
    {
     "name": "stdout",
     "output_type": "stream",
     "text": [
      "<class '__main__.point'>\n"
     ]
    }
   ],
   "source": [
    "class point:\n",
    "    def __init__(self, x, y):\n",
    "        self.x = x\n",
    "        self.y = y\n",
    "\n",
    "    def print_point(self):\n",
    "        print(\"(\",self.x,\",\",self.y,\")\")\n",
    "print(point)"
   ]
  },
  {
   "attachments": {},
   "cell_type": "markdown",
   "metadata": {},
   "source": [
    "creating objects"
   ]
  },
  {
   "cell_type": "code",
   "execution_count": 5,
   "metadata": {},
   "outputs": [
    {
     "name": "stdout",
     "output_type": "stream",
     "text": [
      "<__main__.point object at 0x7fed388aa760>\n"
     ]
    }
   ],
   "source": [
    "p = point(10, 20)\n",
    "print(p)"
   ]
  },
  {
   "attachments": {},
   "cell_type": "markdown",
   "metadata": {},
   "source": [
    "Methods"
   ]
  },
  {
   "cell_type": "code",
   "execution_count": 6,
   "metadata": {},
   "outputs": [
    {
     "name": "stdout",
     "output_type": "stream",
     "text": [
      "( 10 , 20 )\n"
     ]
    }
   ],
   "source": [
    "p.print_point()"
   ]
  },
  {
   "attachments": {},
   "cell_type": "markdown",
   "metadata": {},
   "source": [
    "Write a class point representing a point on co-ordinate system.<br>\n",
    "Implement following: <br>\n",
    "1. read point\n",
    "2. the distance function which takes 2 objects of point class as arguments and <br>\n",
    "3. a function print point: to display one point in the form of ordered pair"
   ]
  },
  {
   "cell_type": "code",
   "execution_count": 2,
   "metadata": {},
   "outputs": [
    {
     "name": "stdout",
     "output_type": "stream",
     "text": [
      "( 3 , 4 )\n",
      "( 2 , 2 )\n",
      "2.23606797749979\n",
      "abcd\n"
     ]
    }
   ],
   "source": [
    "import math\n",
    "\n",
    "class point:\n",
    "    def __init__(self, x, y) :\n",
    "        self.x = x\n",
    "        self.y = y\n",
    "\n",
    "    def print_point(self):\n",
    "        print(\"(\",self.x,\",\",self.y,\")\")\n",
    "\n",
    "def distance(p1, p2):\n",
    "        dist = math.sqrt(pow(p1.x-p2.x, 2)+pow(p1.y-p2.y, 2))\n",
    "        return dist\n",
    "\n",
    "p1 = point(3, 4)\n",
    "p1.print_point()\n",
    "\n",
    "p2 = point(2, 2)\n",
    "p2.print_point()\n",
    "\n",
    "print(distance(p1, p2))\n",
    "\n",
    "a = input()\n",
    "print(a)\n",
    "\n"
   ]
  },
  {
   "cell_type": "code",
   "execution_count": 13,
   "metadata": {},
   "outputs": [
    {
     "name": "stdout",
     "output_type": "stream",
     "text": [
      "Hours:  0  Minutes:  0  Seconds:  0\n",
      "Hours:  10  Minutes:  50  Seconds:  32\n",
      "10:20:30\n",
      "Hours:  10  Minutes:  20  Seconds:  30\n",
      "21:11:02\n"
     ]
    }
   ],
   "source": [
    "class Time:\n",
    "    def __init__(self, h=0, m=0, s=0):\n",
    "        self.h=h\n",
    "        self.m=m\n",
    "        self.s=s\n",
    "\n",
    "    def __str__(self) -> str:\n",
    "        return '%.2d:%.2d:%.2d'%(self.h, self.m, self.s)\n",
    "\n",
    "    def print_time(t):\n",
    "        print('Hours: ',t.h,\" Minutes: \",t.m, \" Seconds: \", t.s)\n",
    "\n",
    "    def __add__(self, other):\n",
    "        sum = Time()\n",
    "        sum.h = self.h+other.h\n",
    "        sum.m = self.m+other.m\n",
    "        sum.s = self.s+other.s\n",
    "\n",
    "        if sum.s>=60:\n",
    "            sum.s-=60\n",
    "            sum.m+=1\n",
    "\n",
    "        if sum.m>=60:\n",
    "            sum.m-=60\n",
    "            sum.h+=1\n",
    "\n",
    "        return sum\n",
    "\n",
    "time1=Time()\n",
    "time1.print_time()\n",
    "\n",
    "time2=Time(10, 50, 32)\n",
    "time2.print_time()\n",
    "\n",
    "time3 = Time(10, 20, 30)\n",
    "print(time3)\n",
    "time3.print_time()\n",
    "\n",
    "print(time2+time3)\n"
   ]
  },
  {
   "attachments": {},
   "cell_type": "markdown",
   "metadata": {},
   "source": [
    "Consider a rectangle class and create two rectangle objects. Progrma ot check whether area of first rectangle is greater than 2nd rectangle by overloading greater than operator.\n"
   ]
  },
  {
   "cell_type": "code",
   "execution_count": 20,
   "metadata": {},
   "outputs": [
    {
     "name": "stdout",
     "output_type": "stream",
     "text": [
      "1st rect is bigger\n",
      "True\n"
     ]
    }
   ],
   "source": [
    "class rect:\n",
    "    def __init__(self, l, b):\n",
    "        self.l=l\n",
    "        self.b=b\n",
    "\n",
    "    def __ge__(self, other):\n",
    "        return (self.l*self.b)>(other.l*other.b)\n",
    "            \n",
    "\n",
    "r1 = rect(10, 20)\n",
    "r2 = rect(5, 20)\n",
    "\n",
    "if(r1>=r2):\n",
    "    print(\"1st rect is bigger\")\n",
    "else:\n",
    "    print(\"2nd rect is bigger\")\n",
    "\n",
    "print(r1>=r2)\n",
    "\n",
    "\n",
    "    "
   ]
  },
  {
   "attachments": {},
   "cell_type": "markdown",
   "metadata": {},
   "source": [
    "type based dispatch"
   ]
  },
  {
   "cell_type": "code",
   "execution_count": null,
   "metadata": {},
   "outputs": [],
   "source": [
    "class time:\n",
    "    def __init__(self) -> None:\n",
    "        pass\n",
    "    def __str__(self):\n",
    "        pass\n",
    "    def increment():\n",
    "        pass\n",
    "    def add_time():\n",
    "        pass\n",
    "    "
   ]
  },
  {
   "attachments": {},
   "cell_type": "markdown",
   "metadata": {},
   "source": [
    "variable with in the public access modifiers can be accessed anywhere inside or outside the class\n"
   ]
  },
  {
   "cell_type": "code",
   "execution_count": null,
   "metadata": {},
   "outputs": [],
   "source": [
    "class rect:\n",
    "    def __init__(self, l, b):\n",
    "        self.l=l\n",
    "        self.b=b\n",
    "\n",
    "    def __ge__(self, other):\n",
    "        return (self.l*self.b)>(other.l*other.b)"
   ]
  }
 ],
 "metadata": {
  "kernelspec": {
   "display_name": "base",
   "language": "python",
   "name": "python3"
  },
  "language_info": {
   "codemirror_mode": {
    "name": "ipython",
    "version": 3
   },
   "file_extension": ".py",
   "mimetype": "text/x-python",
   "name": "python",
   "nbconvert_exporter": "python",
   "pygments_lexer": "ipython3",
   "version": "3.9.12 (main, Apr  5 2022, 01:53:17) \n[Clang 12.0.0 ]"
  },
  "orig_nbformat": 4,
  "vscode": {
   "interpreter": {
    "hash": "8bb40bba8c4300df974030d89c174de94a7d29fce84600e85ab3a158f9f1cd1f"
   }
  }
 },
 "nbformat": 4,
 "nbformat_minor": 2
}
