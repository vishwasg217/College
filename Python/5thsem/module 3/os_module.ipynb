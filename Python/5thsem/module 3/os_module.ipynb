{
 "cells": [
  {
   "cell_type": "markdown",
   "metadata": {},
   "source": [
    "# OS Module"
   ]
  },
  {
   "cell_type": "markdown",
   "metadata": {},
   "source": [
    "### os.path.join()\n",
    "\n",
    "this function is written to handle ot work on all operating sysytems. <br>\n",
    "If you pass it, the string values of individual files ans folder name in your path.<br>\n",
    "This function will return a string with a file path using the correct path seperators. <br>\n",
    "\n",
    "### os.getcwd()\n",
    "you can get pwd as a string value\n",
    "\n",
    "### os.chdir()\n",
    "to change the directory\n",
    "\n",
    "### os.makedirs()\n",
    "create an intermediate folder to ensure the full path exists\n",
    "\n",
    "### os.path.abspth(path)\n",
    "will return the absolute path of the argument.<br>\n",
    "This function is used to convert relative to absolute path.\n",
    "\n",
    "### os.path.abspath(path)\n",
    " will check if it is absolute path or not\n",
    "\n",
    " ### os.path.relpath(path, start)\n",
    "will return the relative path from the start path. <br>\n",
    "If start is not provided, then the pwd is used as start.\n",
    "\n",
    "### os.name()\n",
    "### os.environ()\n",
    "### os.remove()\n",
    "### os.rename()\n",
    "### os.rmdir()\n",
    "### os.walk()\n",
    "### os.dirname()\n",
    "### os.basename()\n",
    "### os.path.exist()\n"
   ]
  },
  {
   "cell_type": "markdown",
   "metadata": {},
   "source": [
    "## Absolute and relative path\n",
    "\n",
    "Absolute path: always begins with root folder <br>\n",
    "Relative path: always relative to the program's current working directory"
   ]
  },
  {
   "cell_type": "markdown",
   "metadata": {},
   "source": [
    "1. Program to count and display number of lines in a given files."
   ]
  },
  {
   "cell_type": "code",
   "execution_count": 2,
   "metadata": {},
   "outputs": [
    {
     "name": "stdout",
     "output_type": "stream",
     "text": [
      "4\n"
     ]
    }
   ],
   "source": [
    "import os\n",
    "fhand=open('demofile.txt')\n",
    "count=0\n",
    "for line in fhand:\n",
    "    count=count+1\n",
    "print(count)"
   ]
  },
  {
   "cell_type": "code",
   "execution_count": 4,
   "metadata": {},
   "outputs": [
    {
     "name": "stdout",
     "output_type": "stream",
     "text": [
      "45\n",
      "2khfbw\n",
      "wkfjbnrwsjlvn\n"
     ]
    }
   ],
   "source": [
    "fhand=open('demofile.txt')\n",
    "\n",
    "inp = fhand.read()\n",
    "print(len(inp))\n",
    "print(inp[:20])"
   ]
  },
  {
   "cell_type": "markdown",
   "metadata": {},
   "source": [
    "2. Pgm to count and display number of lines that starts with \"from\"."
   ]
  },
  {
   "cell_type": "code",
   "execution_count": 7,
   "metadata": {},
   "outputs": [
    {
     "name": "stdout",
     "output_type": "stream",
     "text": [
      "from2khfbw\n",
      "\n",
      "fromwkfjbnrwsjlvn\n",
      "\n"
     ]
    }
   ],
   "source": [
    "fhand=open('demofile.txt')\n",
    "\n",
    "for line in fhand:\n",
    "    if line.startswith('from'):\n",
    "        print(line)"
   ]
  },
  {
   "cell_type": "markdown",
   "metadata": {},
   "source": [
    "# Shelve Module"
   ]
  },
  {
   "cell_type": "code",
   "execution_count": 8,
   "metadata": {},
   "outputs": [],
   "source": [
    "import shelve\n",
    "sf = shelve.open('mydata')\n",
    "cats = ['abc', 'xyz', 'def']\n",
    "sf['cats'] = cats\n",
    "sf.close()"
   ]
  },
  {
   "cell_type": "markdown",
   "metadata": {},
   "source": [
    "programs can use shelve module to later reopen and retrieve the data from the shelve file.<br>\n",
    "Shelf file needn't be open in read or write mode.<br>\n"
   ]
  },
  {
   "cell_type": "markdown",
   "metadata": {},
   "source": [
    "# Shutil Module"
   ]
  },
  {
   "cell_type": "markdown",
   "metadata": {},
   "source": [
    "copy, move and delete file and folders"
   ]
  },
  {
   "cell_type": "markdown",
   "metadata": {},
   "source": [
    "1. for copying a file"
   ]
  },
  {
   "cell_type": "code",
   "execution_count": null,
   "metadata": {},
   "outputs": [],
   "source": [
    "import shutil\n",
    "shutil.copy('src', 'path')\n",
    "\n"
   ]
  },
  {
   "cell_type": "markdown",
   "metadata": {},
   "source": [
    "2. copying entire directories and subfolders"
   ]
  },
  {
   "cell_type": "code",
   "execution_count": null,
   "metadata": {},
   "outputs": [],
   "source": [
    "shutil.copytree('src', 'path')"
   ]
  },
  {
   "cell_type": "markdown",
   "metadata": {},
   "source": [
    "Note: A destination path can also specify the file name"
   ]
  },
  {
   "cell_type": "markdown",
   "metadata": {},
   "source": [
    "os.unlink() will delete a file at path\n",
    "os.rmdir() will delete folder at path. Folder must be empty of any file or folders."
   ]
  },
  {
   "cell_type": "markdown",
   "metadata": {},
   "source": [
    "Use send2trash to delete files and folders when you want to recover them later."
   ]
  },
  {
   "cell_type": "markdown",
   "metadata": {},
   "source": [
    "## os.walk()"
   ]
  },
  {
   "cell_type": "markdown",
   "metadata": {},
   "source": [
    "os.walk() function is passed as a single string value and this function will return 3 values:\n",
    "1. String of the current folder name\n",
    "2. List of strings of the folders in the current folder\n",
    "3. List of the strings of the files in the current folder"
   ]
  },
  {
   "cell_type": "code",
   "execution_count": 1,
   "metadata": {},
   "outputs": [
    {
     "name": "stdout",
     "output_type": "stream",
     "text": [
      "('abc', [], [])\n"
     ]
    }
   ],
   "source": [
    "s = os.walk('abc')\n",
    "for i in s:\n",
    "    print(i)"
   ]
  },
  {
   "cell_type": "markdown",
   "metadata": {},
   "source": [
    "# ZipFile Module"
   ]
  },
  {
   "cell_type": "code",
   "execution_count": 5,
   "metadata": {},
   "outputs": [
    {
     "ename": "FileNotFoundError",
     "evalue": "[Errno 2] No such file or directory: 'sample.zip'",
     "output_type": "error",
     "traceback": [
      "\u001b[0;31m---------------------------------------------------------------------------\u001b[0m",
      "\u001b[0;31mFileNotFoundError\u001b[0m                         Traceback (most recent call last)",
      "\u001b[1;32m/Users/vishwasgowda/Desktop/Coding/Python/5thsem/module 3/os_module.ipynb Cell 25\u001b[0m in \u001b[0;36m<cell line: 2>\u001b[0;34m()\u001b[0m\n\u001b[1;32m      <a href='vscode-notebook-cell:/Users/vishwasgowda/Desktop/Coding/Python/5thsem/module%203/os_module.ipynb#X33sZmlsZQ%3D%3D?line=0'>1</a>\u001b[0m \u001b[39mimport\u001b[39;00m \u001b[39mzipfile\u001b[39;00m\u001b[39m,\u001b[39m \u001b[39mos\u001b[39;00m\n\u001b[0;32m----> <a href='vscode-notebook-cell:/Users/vishwasgowda/Desktop/Coding/Python/5thsem/module%203/os_module.ipynb#X33sZmlsZQ%3D%3D?line=1'>2</a>\u001b[0m examplezip \u001b[39m=\u001b[39m zipfile\u001b[39m.\u001b[39;49mZipFile(\u001b[39m'\u001b[39;49m\u001b[39msample.zip\u001b[39;49m\u001b[39m'\u001b[39;49m)\n\u001b[1;32m      <a href='vscode-notebook-cell:/Users/vishwasgowda/Desktop/Coding/Python/5thsem/module%203/os_module.ipynb#X33sZmlsZQ%3D%3D?line=2'>3</a>\u001b[0m examplezip\u001b[39m.\u001b[39mnamelist()\n",
      "File \u001b[0;32m~/opt/anaconda3/lib/python3.9/zipfile.py:1248\u001b[0m, in \u001b[0;36mZipFile.__init__\u001b[0;34m(self, file, mode, compression, allowZip64, compresslevel, strict_timestamps)\u001b[0m\n\u001b[1;32m   1246\u001b[0m \u001b[39mwhile\u001b[39;00m \u001b[39mTrue\u001b[39;00m:\n\u001b[1;32m   1247\u001b[0m     \u001b[39mtry\u001b[39;00m:\n\u001b[0;32m-> 1248\u001b[0m         \u001b[39mself\u001b[39m\u001b[39m.\u001b[39mfp \u001b[39m=\u001b[39m io\u001b[39m.\u001b[39;49mopen(file, filemode)\n\u001b[1;32m   1249\u001b[0m     \u001b[39mexcept\u001b[39;00m \u001b[39mOSError\u001b[39;00m:\n\u001b[1;32m   1250\u001b[0m         \u001b[39mif\u001b[39;00m filemode \u001b[39min\u001b[39;00m modeDict:\n",
      "\u001b[0;31mFileNotFoundError\u001b[0m: [Errno 2] No such file or directory: 'sample.zip'"
     ]
    }
   ],
   "source": [
    "import zipfile, os\n",
    "examplezip = zipfile.ZipFile('sample.zip')\n",
    "examplezip.namelist()"
   ]
  },
  {
   "cell_type": "markdown",
   "metadata": {},
   "source": [
    "to read the zip file, create the zip file object."
   ]
  },
  {
   "cell_type": "markdown",
   "metadata": {},
   "source": [
    "getinfo():\n",
    "to return the zip info object about that particular file."
   ]
  },
  {
   "cell_type": "markdown",
   "metadata": {},
   "source": [
    "* open zip file ibjectin the write mode to create your own compressed zip file.\n",
    "* pass the write method on the zip file object which compress the file at that path and add it to the new zip file. \n",
    "* the first argument in the write method is a string of the file name to add.\n",
    "* The 2nd argument is the compression type parameter which tells the computer what algorithm is used to compress the files.\n",
    "* zip_deflated: deflate compression algorithm which works well on all types of data.\n",
    "* Just as to writing file, write mode will erase all existing content of the zip file. So if you wna to add to the existing zip file, pass the argument 'a' to teh zipfile.Zipfile().\n"
   ]
  },
  {
   "cell_type": "markdown",
   "metadata": {},
   "source": []
  }
 ],
 "metadata": {
  "kernelspec": {
   "display_name": "Python 3.9.12 ('base')",
   "language": "python",
   "name": "python3"
  },
  "language_info": {
   "codemirror_mode": {
    "name": "ipython",
    "version": 3
   },
   "file_extension": ".py",
   "mimetype": "text/x-python",
   "name": "python",
   "nbconvert_exporter": "python",
   "pygments_lexer": "ipython3",
   "version": "3.9.12"
  },
  "orig_nbformat": 4,
  "vscode": {
   "interpreter": {
    "hash": "8bb40bba8c4300df974030d89c174de94a7d29fce84600e85ab3a158f9f1cd1f"
   }
  }
 },
 "nbformat": 4,
 "nbformat_minor": 2
}
